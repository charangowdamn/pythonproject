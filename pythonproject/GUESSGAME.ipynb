{
  "nbformat": 4,
  "nbformat_minor": 0,
  "metadata": {
    "colab": {
      "name": "GUESSGAME.ipynb",
      "provenance": [],
      "collapsed_sections": [],
      "mount_file_id": "1JUD3GrJVJ_BxGBpRBUgUtcywQMX7VTqY",
      "authorship_tag": "ABX9TyPoWjfh7TBGqjnrFsRTSp99",
      "include_colab_link": true
    },
    "kernelspec": {
      "name": "python3",
      "display_name": "Python 3"
    },
    "language_info": {
      "name": "python"
    }
  },
  "cells": [
    {
      "cell_type": "markdown",
      "metadata": {
        "id": "view-in-github",
        "colab_type": "text"
      },
      "source": [
        "<a href=\"https://colab.research.google.com/github/charangowdamn/pythonproject/blob/main/pythonproject/GUESSGAME.ipynb\" target=\"_parent\"><img src=\"https://colab.research.google.com/assets/colab-badge.svg\" alt=\"Open In Colab\"/></a>"
      ]
    },
    {
      "cell_type": "markdown",
      "metadata": {
        "id": "Pa43FYkAEHux"
      },
      "source": [
        ""
      ]
    },
    {
      "cell_type": "markdown",
      "metadata": {
        "id": "lW_1D-o5Di5U"
      },
      "source": [
        "GUESS GAME"
      ]
    },
    {
      "cell_type": "code",
      "metadata": {
        "id": "ucZOZcxMDa14"
      },
      "source": [
        "import random\n",
        "\n",
        "name = input(\"What is your name? \")\n",
        "\n",
        "print(\"Good Luck ! \", name)\n",
        "\n",
        "words = ['rainbow', 'computer', 'science', 'programming',\n",
        "         'python', 'mathematics', 'player', 'condition',\n",
        "         'reverse', 'water', 'board', 'geeks']\n",
        "\n",
        "\n",
        "word = random.choice(words)\n",
        "\n",
        "print(\"Guess the characters\")\n",
        "\n",
        "guesses = ''\n",
        "\n",
        "turns = 12\n",
        "\n",
        "while turns > 0:\n",
        "\n",
        "    failed = 0\n",
        "\n",
        "    for char in word:\n",
        "\n",
        "\n",
        "        if char in guesses:\n",
        "            print(char)\n",
        "\n",
        "        else:\n",
        "            print(\"_\")\n",
        "\n",
        "\n",
        "            failed += 1\n",
        "\n",
        "    if failed == 0:\n",
        "\n",
        "        print(\"You Win\")\n",
        "\n",
        "\n",
        "        print(\"The word is: \", word)\n",
        "        break\n",
        "\n",
        "\n",
        "    guess = input(\"guess a character:\")\n",
        "\n",
        "\n",
        "    guesses += guess\n",
        "\n",
        "\n",
        "    if guess not in word:\n",
        "\n",
        "        turns -= 1\n",
        "\n",
        "        print(\"Wrong\")\n",
        "\n",
        "        print(\"You have\", + turns, 'more guesses')\n",
        "\n",
        "        if turns == 0:\n",
        "            print(\"You Loose\")\n"
      ],
      "execution_count": null,
      "outputs": []
    }
  ]
}